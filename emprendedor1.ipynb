{
 "cells": [
  {
   "cell_type": "code",
   "execution_count": 3,
   "id": "87522078",
   "metadata": {},
   "outputs": [
    {
     "name": "stdout",
     "output_type": "stream",
     "text": [
      "La utilidades del emprendimiento son: 95000\r\n"
     ]
    }
   ],
   "source": [
    "%%python emprendedor1.py 10000 10 5000\n",
    "\n",
    "# Contexto\n",
    "\n",
    "# Un emprendedor quiere crear una aplicación y necesita saber si es rentable,\n",
    "# para ello, se le pide desarrollar los siguientes tres casos, estos problemas \n",
    "# son independientes el uno del otro por lo que puede desarrollarlos en \n",
    "# el orden que le parezca conveniente.\n",
    "\n",
    "# 1. Crear un programa emprendedor1.py donde el usuario ingrese el precio de venta de\n",
    "# un servicio, el número de usuarios suscritos y los gastos asociados. El programa,\n",
    "# además, debe calcular y mostrar las utilidades de acuerdo a la siguiente función:\n",
    "# utilidades = precio_venta * usuarios − gastos\n",
    "\n",
    "\n",
    "import sys\n",
    "\n",
    "argumentos=len(sys.argv)\n",
    "if argumentos == 4:\n",
    "    precio_venta = int(str(sys.argv[1]))\n",
    "    usuarios = int(str(sys.argv[2]))\n",
    "    gastos = int(str(sys.argv[3]))\n",
    "    utilidades = (precio_venta * usuarios) - gastos \n",
    "    print (\"La utilidades del emprendimiento son: {}\".format(utilidades))\n",
    "else:\n",
    "    print(\"ERROR: Intodujo (1) ó (2) ó (3) argumentos.\")\n",
    "    print(\"SOLUCION: Intoduce los argumentos correctamente.\")\n",
    "    print(\"\\nPara determinar la utilidades del emprendimiento, escribe por consola:\")\n",
    "    print(\"$ python emprendedor1.py precio_venta_servicio usuarios_suscritos gastos_asociados\")\n"
   ]
  },
  {
   "cell_type": "code",
   "execution_count": 6,
   "id": "25b99f6d",
   "metadata": {},
   "outputs": [
    {
     "name": "stdout",
     "output_type": "stream",
     "text": [
      "ERROR: Intodujo menos de (5) argumentos.\r\n",
      "SOLUCION: Intoduce los argumentos correctamente.\r\n",
      "\r\n",
      "Para determinar la utilidades del emprendimiento, escribe por consola:\r\n",
      "$ python emprendedor2.py cantidad_usuarios_normales cantidad_usuarios_premium cantidad_usuarios_periodo_prueba precio_suscripcion_estandar gastos_asociados\r\n"
     ]
    }
   ],
   "source": [
    "%%python emprendedor2.py 10 20 30 10000 5000 6000\n",
    "\n"
   ]
  },
  {
   "cell_type": "code",
   "execution_count": null,
   "id": "926a92cb",
   "metadata": {},
   "outputs": [],
   "source": []
  }
 ],
 "metadata": {
  "kernelspec": {
   "display_name": "Python 3 (ipykernel)",
   "language": "python",
   "name": "python3"
  },
  "language_info": {
   "codemirror_mode": {
    "name": "ipython",
    "version": 3
   },
   "file_extension": ".py",
   "mimetype": "text/x-python",
   "name": "python",
   "nbconvert_exporter": "python",
   "pygments_lexer": "ipython3",
   "version": "3.8.12"
  }
 },
 "nbformat": 4,
 "nbformat_minor": 5
}
